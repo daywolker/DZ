{
 "cells": [
  {
   "cell_type": "code",
   "execution_count": 89,
   "id": "a973b630-dbdf-45db-81ba-019315cab8b4",
   "metadata": {},
   "outputs": [],
   "source": [
    "# импортируем библиотеки\n",
    "import pandas as pd\n",
    "import matplotlib.pyplot as plt\n",
    "import seaborn as sns\n",
    "from scipy.stats import ttest_ind"
   ]
  },
  {
   "cell_type": "markdown",
   "id": "76e77377-a48e-4229-8168-09ea1434e843",
   "metadata": {},
   "source": [
    "Признаки:\n",
    "1. satisfaction_level - Уровень удовлетворенности работой\n",
    "2. Last_evaluation - Время с момента последней оценки в годах\n",
    "3. number_projects - Количество проектов, выполненных за время работы\n",
    "4. average_monthly_hours - Среднее количество часов на рабочем месте в месяц\n",
    "5. time_spend_company - Стаж работы в компании в годах\n",
    "6. work_accident - Происходили ли несчастные случаи на рабочем месте с сотрудником\n",
    "7. left - уволился ли сотрудник\n",
    "8. promotion_last_5years - повышался ли сотрудник за последние пять лет\n",
    "9. department - отдел в котором работает сотрудник\n",
    "10. salary - относительный уровень зарплаты"
   ]
  },
  {
   "cell_type": "markdown",
   "id": "183c5f74-1b9b-442f-ae8a-e3b623087b3b",
   "metadata": {},
   "source": [
    "Загрузите файл HR.csv в pandas dfframe \n",
    "\n",
    "Рассчитайте основные статистики для переменных\n",
    "(среднее,медиана,мода,мин/макс,сред.отклонение).\n",
    "\n",
    "Рассчитайте и визуализировать корреляционную матрицу для\n",
    "количественных переменных.\n",
    "\n",
    "Определите две самые скоррелированные и две наименее\n",
    "скоррелированные переменные.\n",
    "\n",
    "Рассчитайте сколько сотрудников работает в каждом\n",
    "департаменте.\n",
    "\n",
    "Показать распределение сотрудников по зарплатам. \n",
    "\n",
    "Показать распределение сотрудников по зарплатам в каждом\n",
    "департаменте по отдельности\n",
    "\n",
    "Проверить гипотезу, что сотрудники с высоким окладом\n",
    "проводят на работе больше времени, чем сотрудники с низким\n",
    "окладом\n",
    "\n",
    "Рассчитать следующие показатели среди уволившихся и не\n",
    "уволившихся сотрудников (по отдельности):\n",
    "  ● Доля сотрудников с повышением за последние 5 лет\n",
    "  ● Средняя степень удовлетворенности\n",
    "  ● Среднее количество проектов\n",
    "\n",
    "Загрузить jupyter notebook с решение на github и прислать ссылку \n"
   ]
  },
  {
   "cell_type": "code",
   "execution_count": 90,
   "id": "6d8c3a63-7162-4e53-ac84-51ffafcce99d",
   "metadata": {},
   "outputs": [],
   "source": [
    "df = pd.read_csv('HR.csv') #Загрузка"
   ]
  },
  {
   "cell_type": "code",
   "execution_count": 91,
   "id": "bcc6bc6f-fafc-481f-97e7-dd3a27924bae",
   "metadata": {},
   "outputs": [
    {
     "data": {
      "text/html": [
       "<div>\n",
       "<style scoped>\n",
       "    .dataframe tbody tr th:only-of-type {\n",
       "        vertical-align: middle;\n",
       "    }\n",
       "\n",
       "    .dataframe tbody tr th {\n",
       "        vertical-align: top;\n",
       "    }\n",
       "\n",
       "    .dataframe thead th {\n",
       "        text-align: right;\n",
       "    }\n",
       "</style>\n",
       "<table border=\"1\" class=\"dataframe\">\n",
       "  <thead>\n",
       "    <tr style=\"text-align: right;\">\n",
       "      <th></th>\n",
       "      <th>satisfaction_level</th>\n",
       "      <th>last_evaluation</th>\n",
       "      <th>number_project</th>\n",
       "      <th>average_montly_hours</th>\n",
       "      <th>time_spend_company</th>\n",
       "      <th>Work_accident</th>\n",
       "      <th>left</th>\n",
       "      <th>promotion_last_5years</th>\n",
       "      <th>department</th>\n",
       "      <th>salary</th>\n",
       "    </tr>\n",
       "  </thead>\n",
       "  <tbody>\n",
       "    <tr>\n",
       "      <th>0</th>\n",
       "      <td>0.38</td>\n",
       "      <td>0.53</td>\n",
       "      <td>2</td>\n",
       "      <td>157</td>\n",
       "      <td>3</td>\n",
       "      <td>0</td>\n",
       "      <td>1</td>\n",
       "      <td>0</td>\n",
       "      <td>sales</td>\n",
       "      <td>low</td>\n",
       "    </tr>\n",
       "    <tr>\n",
       "      <th>1</th>\n",
       "      <td>0.80</td>\n",
       "      <td>0.86</td>\n",
       "      <td>5</td>\n",
       "      <td>262</td>\n",
       "      <td>6</td>\n",
       "      <td>0</td>\n",
       "      <td>1</td>\n",
       "      <td>0</td>\n",
       "      <td>sales</td>\n",
       "      <td>medium</td>\n",
       "    </tr>\n",
       "    <tr>\n",
       "      <th>2</th>\n",
       "      <td>0.11</td>\n",
       "      <td>0.88</td>\n",
       "      <td>7</td>\n",
       "      <td>272</td>\n",
       "      <td>4</td>\n",
       "      <td>0</td>\n",
       "      <td>1</td>\n",
       "      <td>0</td>\n",
       "      <td>sales</td>\n",
       "      <td>medium</td>\n",
       "    </tr>\n",
       "    <tr>\n",
       "      <th>3</th>\n",
       "      <td>0.72</td>\n",
       "      <td>0.87</td>\n",
       "      <td>5</td>\n",
       "      <td>223</td>\n",
       "      <td>5</td>\n",
       "      <td>0</td>\n",
       "      <td>1</td>\n",
       "      <td>0</td>\n",
       "      <td>sales</td>\n",
       "      <td>low</td>\n",
       "    </tr>\n",
       "    <tr>\n",
       "      <th>4</th>\n",
       "      <td>0.37</td>\n",
       "      <td>0.52</td>\n",
       "      <td>2</td>\n",
       "      <td>159</td>\n",
       "      <td>3</td>\n",
       "      <td>0</td>\n",
       "      <td>1</td>\n",
       "      <td>0</td>\n",
       "      <td>sales</td>\n",
       "      <td>low</td>\n",
       "    </tr>\n",
       "  </tbody>\n",
       "</table>\n",
       "</div>"
      ],
      "text/plain": [
       "   satisfaction_level  last_evaluation  number_project  average_montly_hours  \\\n",
       "0                0.38             0.53               2                   157   \n",
       "1                0.80             0.86               5                   262   \n",
       "2                0.11             0.88               7                   272   \n",
       "3                0.72             0.87               5                   223   \n",
       "4                0.37             0.52               2                   159   \n",
       "\n",
       "   time_spend_company  Work_accident  left  promotion_last_5years department  \\\n",
       "0                   3              0     1                      0      sales   \n",
       "1                   6              0     1                      0      sales   \n",
       "2                   4              0     1                      0      sales   \n",
       "3                   5              0     1                      0      sales   \n",
       "4                   3              0     1                      0      sales   \n",
       "\n",
       "   salary  \n",
       "0     low  \n",
       "1  medium  \n",
       "2  medium  \n",
       "3     low  \n",
       "4     low  "
      ]
     },
     "execution_count": 91,
     "metadata": {},
     "output_type": "execute_result"
    }
   ],
   "source": [
    "df.head()"
   ]
  },
  {
   "cell_type": "code",
   "execution_count": 92,
   "id": "b3e31b2c-4d61-4a7f-8b38-1a7b85738856",
   "metadata": {},
   "outputs": [
    {
     "data": {
      "text/plain": [
       "(14999, 10)"
      ]
     },
     "execution_count": 92,
     "metadata": {},
     "output_type": "execute_result"
    }
   ],
   "source": [
    "df.shape #кол строк и солбцов"
   ]
  },
  {
   "cell_type": "code",
   "execution_count": 93,
   "id": "4e7f599c-ac4c-4f23-a3db-af256b3e0d14",
   "metadata": {},
   "outputs": [
    {
     "name": "stdout",
     "output_type": "stream",
     "text": [
      "<class 'pandas.core.frame.DataFrame'>\n",
      "RangeIndex: 14999 entries, 0 to 14998\n",
      "Data columns (total 10 columns):\n",
      " #   Column                 Non-Null Count  Dtype  \n",
      "---  ------                 --------------  -----  \n",
      " 0   satisfaction_level     14999 non-null  float64\n",
      " 1   last_evaluation        14999 non-null  float64\n",
      " 2   number_project         14999 non-null  int64  \n",
      " 3   average_montly_hours   14999 non-null  int64  \n",
      " 4   time_spend_company     14999 non-null  int64  \n",
      " 5   Work_accident          14999 non-null  int64  \n",
      " 6   left                   14999 non-null  int64  \n",
      " 7   promotion_last_5years  14999 non-null  int64  \n",
      " 8   department             14999 non-null  object \n",
      " 9   salary                 14999 non-null  object \n",
      "dtypes: float64(2), int64(6), object(2)\n",
      "memory usage: 1.1+ MB\n"
     ]
    }
   ],
   "source": [
    "df.info() # инфо по типам и заполняемости"
   ]
  },
  {
   "cell_type": "code",
   "execution_count": 94,
   "id": "86625463-0b32-44d9-9f78-84786f512f03",
   "metadata": {
    "tags": []
   },
   "outputs": [
    {
     "data": {
      "text/html": [
       "<div>\n",
       "<style scoped>\n",
       "    .dataframe tbody tr th:only-of-type {\n",
       "        vertical-align: middle;\n",
       "    }\n",
       "\n",
       "    .dataframe tbody tr th {\n",
       "        vertical-align: top;\n",
       "    }\n",
       "\n",
       "    .dataframe thead th {\n",
       "        text-align: right;\n",
       "    }\n",
       "</style>\n",
       "<table border=\"1\" class=\"dataframe\">\n",
       "  <thead>\n",
       "    <tr style=\"text-align: right;\">\n",
       "      <th></th>\n",
       "      <th>satisfaction_level</th>\n",
       "      <th>last_evaluation</th>\n",
       "      <th>number_project</th>\n",
       "      <th>average_montly_hours</th>\n",
       "      <th>time_spend_company</th>\n",
       "      <th>Work_accident</th>\n",
       "      <th>left</th>\n",
       "      <th>promotion_last_5years</th>\n",
       "    </tr>\n",
       "  </thead>\n",
       "  <tbody>\n",
       "    <tr>\n",
       "      <th>count</th>\n",
       "      <td>14999.000000</td>\n",
       "      <td>14999.000000</td>\n",
       "      <td>14999.000000</td>\n",
       "      <td>14999.000000</td>\n",
       "      <td>14999.000000</td>\n",
       "      <td>14999.000000</td>\n",
       "      <td>14999.000000</td>\n",
       "      <td>14999.000000</td>\n",
       "    </tr>\n",
       "    <tr>\n",
       "      <th>mean</th>\n",
       "      <td>0.612834</td>\n",
       "      <td>0.716102</td>\n",
       "      <td>3.803054</td>\n",
       "      <td>201.050337</td>\n",
       "      <td>3.498233</td>\n",
       "      <td>0.144610</td>\n",
       "      <td>0.238083</td>\n",
       "      <td>0.021268</td>\n",
       "    </tr>\n",
       "    <tr>\n",
       "      <th>std</th>\n",
       "      <td>0.248631</td>\n",
       "      <td>0.171169</td>\n",
       "      <td>1.232592</td>\n",
       "      <td>49.943099</td>\n",
       "      <td>1.460136</td>\n",
       "      <td>0.351719</td>\n",
       "      <td>0.425924</td>\n",
       "      <td>0.144281</td>\n",
       "    </tr>\n",
       "    <tr>\n",
       "      <th>min</th>\n",
       "      <td>0.090000</td>\n",
       "      <td>0.360000</td>\n",
       "      <td>2.000000</td>\n",
       "      <td>96.000000</td>\n",
       "      <td>2.000000</td>\n",
       "      <td>0.000000</td>\n",
       "      <td>0.000000</td>\n",
       "      <td>0.000000</td>\n",
       "    </tr>\n",
       "    <tr>\n",
       "      <th>25%</th>\n",
       "      <td>0.440000</td>\n",
       "      <td>0.560000</td>\n",
       "      <td>3.000000</td>\n",
       "      <td>156.000000</td>\n",
       "      <td>3.000000</td>\n",
       "      <td>0.000000</td>\n",
       "      <td>0.000000</td>\n",
       "      <td>0.000000</td>\n",
       "    </tr>\n",
       "    <tr>\n",
       "      <th>50%</th>\n",
       "      <td>0.640000</td>\n",
       "      <td>0.720000</td>\n",
       "      <td>4.000000</td>\n",
       "      <td>200.000000</td>\n",
       "      <td>3.000000</td>\n",
       "      <td>0.000000</td>\n",
       "      <td>0.000000</td>\n",
       "      <td>0.000000</td>\n",
       "    </tr>\n",
       "    <tr>\n",
       "      <th>75%</th>\n",
       "      <td>0.820000</td>\n",
       "      <td>0.870000</td>\n",
       "      <td>5.000000</td>\n",
       "      <td>245.000000</td>\n",
       "      <td>4.000000</td>\n",
       "      <td>0.000000</td>\n",
       "      <td>0.000000</td>\n",
       "      <td>0.000000</td>\n",
       "    </tr>\n",
       "    <tr>\n",
       "      <th>max</th>\n",
       "      <td>1.000000</td>\n",
       "      <td>1.000000</td>\n",
       "      <td>7.000000</td>\n",
       "      <td>310.000000</td>\n",
       "      <td>10.000000</td>\n",
       "      <td>1.000000</td>\n",
       "      <td>1.000000</td>\n",
       "      <td>1.000000</td>\n",
       "    </tr>\n",
       "  </tbody>\n",
       "</table>\n",
       "</div>"
      ],
      "text/plain": [
       "       satisfaction_level  last_evaluation  number_project  \\\n",
       "count        14999.000000     14999.000000    14999.000000   \n",
       "mean             0.612834         0.716102        3.803054   \n",
       "std              0.248631         0.171169        1.232592   \n",
       "min              0.090000         0.360000        2.000000   \n",
       "25%              0.440000         0.560000        3.000000   \n",
       "50%              0.640000         0.720000        4.000000   \n",
       "75%              0.820000         0.870000        5.000000   \n",
       "max              1.000000         1.000000        7.000000   \n",
       "\n",
       "       average_montly_hours  time_spend_company  Work_accident          left  \\\n",
       "count          14999.000000        14999.000000   14999.000000  14999.000000   \n",
       "mean             201.050337            3.498233       0.144610      0.238083   \n",
       "std               49.943099            1.460136       0.351719      0.425924   \n",
       "min               96.000000            2.000000       0.000000      0.000000   \n",
       "25%              156.000000            3.000000       0.000000      0.000000   \n",
       "50%              200.000000            3.000000       0.000000      0.000000   \n",
       "75%              245.000000            4.000000       0.000000      0.000000   \n",
       "max              310.000000           10.000000       1.000000      1.000000   \n",
       "\n",
       "       promotion_last_5years  \n",
       "count           14999.000000  \n",
       "mean                0.021268  \n",
       "std                 0.144281  \n",
       "min                 0.000000  \n",
       "25%                 0.000000  \n",
       "50%                 0.000000  \n",
       "75%                 0.000000  \n",
       "max                 1.000000  "
      ]
     },
     "execution_count": 94,
     "metadata": {},
     "output_type": "execute_result"
    }
   ],
   "source": [
    "# Основные статистики для переменных\n",
    "statistics = df.describe()\n",
    "statistics.head(10)"
   ]
  },
  {
   "cell_type": "code",
   "execution_count": 95,
   "id": "654b02bf-d198-4dd4-8dea-7f6649d6713c",
   "metadata": {},
   "outputs": [
    {
     "data": {
      "text/plain": [
       "satisfaction_level         0.64\n",
       "last_evaluation            0.72\n",
       "number_project             4.00\n",
       "average_montly_hours     200.00\n",
       "time_spend_company         3.00\n",
       "Work_accident              0.00\n",
       "left                       0.00\n",
       "promotion_last_5years      0.00\n",
       "dtype: float64"
      ]
     },
     "execution_count": 95,
     "metadata": {},
     "output_type": "execute_result"
    }
   ],
   "source": [
    "# Медиана для числовых столбцов\n",
    "df.median(numeric_only=True).head(10)"
   ]
  },
  {
   "cell_type": "code",
   "execution_count": 96,
   "id": "c522874a-b7d0-460f-9990-82d94df9e131",
   "metadata": {},
   "outputs": [
    {
     "data": {
      "text/plain": [
       "department    sales\n",
       "salary          low\n",
       "Name: 0, dtype: object"
      ]
     },
     "execution_count": 96,
     "metadata": {},
     "output_type": "execute_result"
    }
   ],
   "source": [
    "# Мода\n",
    "df.select_dtypes(include='object').mode().loc[0].head()"
   ]
  },
  {
   "cell_type": "code",
   "execution_count": 97,
   "id": "fc84f835-123e-499a-a695-54b86a628a9f",
   "metadata": {},
   "outputs": [
    {
     "data": {
      "text/plain": [
       "satisfaction_level        0.10\n",
       "last_evaluation           0.55\n",
       "number_project            4.00\n",
       "average_montly_hours    135.00\n",
       "time_spend_company        3.00\n",
       "Name: 0, dtype: float64"
      ]
     },
     "execution_count": 97,
     "metadata": {},
     "output_type": "execute_result"
    }
   ],
   "source": [
    "# Мода для числовых столбцов\n",
    "df.select_dtypes(include='number').mode().loc[0].head()"
   ]
  },
  {
   "cell_type": "code",
   "execution_count": null,
   "id": "afc07e3d-e2de-4ac5-a05a-a196565255ca",
   "metadata": {},
   "outputs": [],
   "source": []
  },
  {
   "cell_type": "code",
   "execution_count": 98,
   "id": "495c3b61-4661-4183-bfdf-8620e1044136",
   "metadata": {},
   "outputs": [
    {
     "data": {
      "text/html": [
       "<div>\n",
       "<style scoped>\n",
       "    .dataframe tbody tr th:only-of-type {\n",
       "        vertical-align: middle;\n",
       "    }\n",
       "\n",
       "    .dataframe tbody tr th {\n",
       "        vertical-align: top;\n",
       "    }\n",
       "\n",
       "    .dataframe thead th {\n",
       "        text-align: right;\n",
       "    }\n",
       "</style>\n",
       "<table border=\"1\" class=\"dataframe\">\n",
       "  <thead>\n",
       "    <tr style=\"text-align: right;\">\n",
       "      <th></th>\n",
       "      <th>satisfaction_level</th>\n",
       "      <th>last_evaluation</th>\n",
       "      <th>number_project</th>\n",
       "      <th>average_montly_hours</th>\n",
       "      <th>time_spend_company</th>\n",
       "      <th>Work_accident</th>\n",
       "      <th>left</th>\n",
       "      <th>promotion_last_5years</th>\n",
       "    </tr>\n",
       "  </thead>\n",
       "  <tbody>\n",
       "    <tr>\n",
       "      <th>satisfaction_level</th>\n",
       "      <td>1.000000</td>\n",
       "      <td>0.105021</td>\n",
       "      <td>-0.142970</td>\n",
       "      <td>-0.020048</td>\n",
       "      <td>-0.100866</td>\n",
       "      <td>0.058697</td>\n",
       "      <td>-0.388375</td>\n",
       "      <td>0.025605</td>\n",
       "    </tr>\n",
       "    <tr>\n",
       "      <th>last_evaluation</th>\n",
       "      <td>0.105021</td>\n",
       "      <td>1.000000</td>\n",
       "      <td>0.349333</td>\n",
       "      <td>0.339742</td>\n",
       "      <td>0.131591</td>\n",
       "      <td>-0.007104</td>\n",
       "      <td>0.006567</td>\n",
       "      <td>-0.008684</td>\n",
       "    </tr>\n",
       "    <tr>\n",
       "      <th>number_project</th>\n",
       "      <td>-0.142970</td>\n",
       "      <td>0.349333</td>\n",
       "      <td>1.000000</td>\n",
       "      <td>0.417211</td>\n",
       "      <td>0.196786</td>\n",
       "      <td>-0.004741</td>\n",
       "      <td>0.023787</td>\n",
       "      <td>-0.006064</td>\n",
       "    </tr>\n",
       "    <tr>\n",
       "      <th>average_montly_hours</th>\n",
       "      <td>-0.020048</td>\n",
       "      <td>0.339742</td>\n",
       "      <td>0.417211</td>\n",
       "      <td>1.000000</td>\n",
       "      <td>0.127755</td>\n",
       "      <td>-0.010143</td>\n",
       "      <td>0.071287</td>\n",
       "      <td>-0.003544</td>\n",
       "    </tr>\n",
       "    <tr>\n",
       "      <th>time_spend_company</th>\n",
       "      <td>-0.100866</td>\n",
       "      <td>0.131591</td>\n",
       "      <td>0.196786</td>\n",
       "      <td>0.127755</td>\n",
       "      <td>1.000000</td>\n",
       "      <td>0.002120</td>\n",
       "      <td>0.144822</td>\n",
       "      <td>0.067433</td>\n",
       "    </tr>\n",
       "    <tr>\n",
       "      <th>Work_accident</th>\n",
       "      <td>0.058697</td>\n",
       "      <td>-0.007104</td>\n",
       "      <td>-0.004741</td>\n",
       "      <td>-0.010143</td>\n",
       "      <td>0.002120</td>\n",
       "      <td>1.000000</td>\n",
       "      <td>-0.154622</td>\n",
       "      <td>0.039245</td>\n",
       "    </tr>\n",
       "    <tr>\n",
       "      <th>left</th>\n",
       "      <td>-0.388375</td>\n",
       "      <td>0.006567</td>\n",
       "      <td>0.023787</td>\n",
       "      <td>0.071287</td>\n",
       "      <td>0.144822</td>\n",
       "      <td>-0.154622</td>\n",
       "      <td>1.000000</td>\n",
       "      <td>-0.061788</td>\n",
       "    </tr>\n",
       "    <tr>\n",
       "      <th>promotion_last_5years</th>\n",
       "      <td>0.025605</td>\n",
       "      <td>-0.008684</td>\n",
       "      <td>-0.006064</td>\n",
       "      <td>-0.003544</td>\n",
       "      <td>0.067433</td>\n",
       "      <td>0.039245</td>\n",
       "      <td>-0.061788</td>\n",
       "      <td>1.000000</td>\n",
       "    </tr>\n",
       "  </tbody>\n",
       "</table>\n",
       "</div>"
      ],
      "text/plain": [
       "                       satisfaction_level  last_evaluation  number_project  \\\n",
       "satisfaction_level               1.000000         0.105021       -0.142970   \n",
       "last_evaluation                  0.105021         1.000000        0.349333   \n",
       "number_project                  -0.142970         0.349333        1.000000   \n",
       "average_montly_hours            -0.020048         0.339742        0.417211   \n",
       "time_spend_company              -0.100866         0.131591        0.196786   \n",
       "Work_accident                    0.058697        -0.007104       -0.004741   \n",
       "left                            -0.388375         0.006567        0.023787   \n",
       "promotion_last_5years            0.025605        -0.008684       -0.006064   \n",
       "\n",
       "                       average_montly_hours  time_spend_company  \\\n",
       "satisfaction_level                -0.020048           -0.100866   \n",
       "last_evaluation                    0.339742            0.131591   \n",
       "number_project                     0.417211            0.196786   \n",
       "average_montly_hours               1.000000            0.127755   \n",
       "time_spend_company                 0.127755            1.000000   \n",
       "Work_accident                     -0.010143            0.002120   \n",
       "left                               0.071287            0.144822   \n",
       "promotion_last_5years             -0.003544            0.067433   \n",
       "\n",
       "                       Work_accident      left  promotion_last_5years  \n",
       "satisfaction_level          0.058697 -0.388375               0.025605  \n",
       "last_evaluation            -0.007104  0.006567              -0.008684  \n",
       "number_project             -0.004741  0.023787              -0.006064  \n",
       "average_montly_hours       -0.010143  0.071287              -0.003544  \n",
       "time_spend_company          0.002120  0.144822               0.067433  \n",
       "Work_accident               1.000000 -0.154622               0.039245  \n",
       "left                       -0.154622  1.000000              -0.061788  \n",
       "promotion_last_5years       0.039245 -0.061788               1.000000  "
      ]
     },
     "execution_count": 98,
     "metadata": {},
     "output_type": "execute_result"
    }
   ],
   "source": [
    "# Корреляционная матрица\n",
    "corr_matrix = df.corr()\n",
    "corr_matrix.head(15)"
   ]
  },
  {
   "cell_type": "code",
   "execution_count": 99,
   "id": "b2552f76-5bab-4717-ade9-a047648c0f71",
   "metadata": {},
   "outputs": [
    {
     "data": {
      "image/png": "[encoded data removed]",
      "text/plain": [
       "<Figure size 1000x800 with 2 Axes>"
      ]
     },
     "metadata": {},
     "output_type": "display_data"
    }
   ],
   "source": [
    "# Корреляционная матрица визуал\n",
    "plt.figure(figsize=(10, 8))\n",
    "sns.heatmap(corr_matrix, annot=True, cmap='coolwarm')\n",
    "plt.title('Корреляционная матрица')\n",
    "plt.show()"
   ]
  },
  {
   "cell_type": "code",
   "execution_count": 100,
   "id": "f703cc8e-d877-4699-92f2-a8a15bee2e61",
   "metadata": {},
   "outputs": [
    {
     "name": "stdout",
     "output_type": "stream",
     "text": [
      "Самые скоррелированные переменные:\n",
      "number_project        average_montly_hours    0.417211\n",
      "average_montly_hours  number_project          0.417211\n",
      "dtype: float64\n",
      "\n",
      "Наименее скоррелированные переменные:\n",
      "left                satisfaction_level   -0.388375\n",
      "satisfaction_level  left                 -0.388375\n",
      "dtype: float64\n"
     ]
    }
   ],
   "source": [
    "# Определение двух самых скоррелированных и двух наименее скоррелированных переменных\n",
    "corr_pairs = corr_matrix.unstack().sort_values(ascending=False)\n",
    "top_corr = corr_pairs[corr_pairs != 1.0].head(2)\n",
    "bottom_corr = corr_pairs[corr_pairs != 1.0].tail(2)\n",
    "print(\"Самые скоррелированные переменные:\")\n",
    "print(top_corr)\n",
    "print()\n",
    "print(\"Наименее скоррелированные переменные:\")\n",
    "print(bottom_corr)"
   ]
  },
  {
   "cell_type": "code",
   "execution_count": 101,
   "id": "37bbb6ce-c2dd-48be-b318-606559ef96e1",
   "metadata": {},
   "outputs": [
    {
     "data": {
      "text/plain": [
       "sales          4140\n",
       "technical      2720\n",
       "support        2229\n",
       "IT             1227\n",
       "product_mng     902\n",
       "marketing       858\n",
       "RandD           787\n",
       "accounting      767\n",
       "hr              739\n",
       "management      630\n",
       "Name: department, dtype: int64"
      ]
     },
     "execution_count": 101,
     "metadata": {},
     "output_type": "execute_result"
    }
   ],
   "source": [
    "# Количество сотрудников в каждом департаменте\n",
    "department_count = df['department'].value_counts()\n",
    "department_count.head(20)"
   ]
  },
  {
   "cell_type": "code",
   "execution_count": 102,
   "id": "6f33f833-9f51-4b07-a029-58b0fadf5c73",
   "metadata": {},
   "outputs": [
    {
     "data": {
      "text/plain": [
       "low       7316\n",
       "medium    6446\n",
       "high      1237\n",
       "Name: salary, dtype: int64"
      ]
     },
     "execution_count": 102,
     "metadata": {},
     "output_type": "execute_result"
    }
   ],
   "source": [
    "# Распределение сотрудников по зарплатам\n",
    "salary_distribution = df['salary'].value_counts()\n",
    "salary_distribution.head()"
   ]
  },
  {
   "cell_type": "code",
   "execution_count": 103,
   "id": "1f33072e-ae65-4741-94f1-e1cb8f9d4ca0",
   "metadata": {},
   "outputs": [
    {
     "data": {
      "text/plain": [
       "department   salary\n",
       "technical    medium    1147\n",
       "             low       1372\n",
       "             high       201\n",
       "support      medium     942\n",
       "             low       1146\n",
       "             high       141\n",
       "sales        medium    1772\n",
       "             low       2099\n",
       "             high       269\n",
       "product_mng  medium     383\n",
       "             low        451\n",
       "             high        68\n",
       "marketing    medium     376\n",
       "             low        402\n",
       "             high        80\n",
       "management   medium     225\n",
       "             low        180\n",
       "             high       225\n",
       "hr           medium     359\n",
       "             low        335\n",
       "             high        45\n",
       "accounting   medium     335\n",
       "             low        358\n",
       "             high        74\n",
       "RandD        medium     372\n",
       "             low        364\n",
       "             high        51\n",
       "IT           medium     535\n",
       "             low        609\n",
       "             high        83\n",
       "Name: salary, dtype: int64"
      ]
     },
     "execution_count": 103,
     "metadata": {},
     "output_type": "execute_result"
    }
   ],
   "source": [
    "# Распределение сотрудников по зарплатам в каждом департаменте\n",
    "salary_by_department = df.groupby('department')['salary'].value_counts().sort_index(ascending=False)\n",
    "salary_by_department.head(30)"
   ]
  },
  {
   "cell_type": "code",
   "execution_count": null,
   "id": "f77402ec-d92b-4d1a-b6d8-de9dec8deccc",
   "metadata": {},
   "outputs": [],
   "source": []
  },
  {
   "cell_type": "code",
   "execution_count": 104,
   "id": "a91a22a3-a68a-4aa2-b801-b3eea0da4718",
   "metadata": {},
   "outputs": [
    {
     "name": "stdout",
     "output_type": "stream",
     "text": [
      "Статистика t-теста: -0.7624331665385475\n",
      "p_value: 0.4459045542257889\n",
      "Не отклоняем нулевую гипотезу: нет статистически значимых различий во времени, проведённом на работе, между сотрудниками с высоким и низким окладом.\n"
     ]
    }
   ],
   "source": [
    "# Гипотеза ,что сотрудники с высоким окладом проводят на работе больше времени, чем сотрудники с низкимокладом\n",
    "high_salary = df[df['salary'] == 'high']['average_montly_hours'] #с высоким окладом\n",
    "low_salary = df[df['salary'] == 'low']['average_montly_hours'] #с низким окладом\n",
    "\n",
    "# t-тест Уэлча\n",
    "stat, p_value = ttest_ind(high_salary, low_salary, equal_var=False)\n",
    "\n",
    "print(f\"Статистика t-теста: {stat}\")\n",
    "print(f\"p_value: {p_value}\")\n",
    "\n",
    "\n",
    "a = 0.05  # Уровень значимости\n",
    "if p_value < a:\n",
    "    print(\"Отклоняем нулевую гипотезу: сотрудники с высоким окладом проводят на работе статистически значимо больше времени.\")\n",
    "else:\n",
    "    print(\"Не отклоняем нулевую гипотезу: нет статистически значимых различий во времени, проведённом на работе, между сотрудниками с высоким и низким окладом.\")"
   ]
  },
  {
   "cell_type": "code",
   "execution_count": null,
   "id": "06b26d9d-c34e-4f73-a563-f1a6a15fa0bb",
   "metadata": {},
   "outputs": [],
   "source": []
  },
  {
   "cell_type": "code",
   "execution_count": 105,
   "id": "9575ad5e-0d45-4048-84fc-14c875016b6f",
   "metadata": {},
   "outputs": [],
   "source": [
    "# Показатели среди уволившихся и не уволившихся сотрудников\n",
    "left_employees = df[df['left']== 1]\n",
    "not_left_employees = df[df['left']== 0]"
   ]
  },
  {
   "cell_type": "code",
   "execution_count": 106,
   "id": "6da5d334-333f-442a-a390-b80a3f0a5e75",
   "metadata": {},
   "outputs": [
    {
     "name": "stdout",
     "output_type": "stream",
     "text": [
      "Доля сотрудников с повышением среди уволившихся: 0.53%\n",
      "Средняя степень удовлетворенности среди уволившихся: 0.44\n",
      "Среднее количество проектов среди уволившихся: 3.86\n",
      "\n",
      "Доля сотрудников с повышением среди оставшихся: 2.63%\n",
      "Средняя степень удовлетворенности среди оставшихся: 0.67\n",
      "Среднее количество проектов среди оставшихся: 3.79\n"
     ]
    }
   ],
   "source": [
    "\n",
    "# Доля сотрудников с повышением за последние 5 лет уволившихся\n",
    "promotion_rate_left = (left_employees['promotion_last_5years'] == 1).sum() / len(left_employees)\n",
    "print(f'Доля сотрудников с повышением среди уволившихся: {promotion_rate_left * 100:.2f}%')\n",
    "# Средняя степень удовлетворенности уволившихся\n",
    "avg_satisfaction_left = left_employees['satisfaction_level'].mean()\n",
    "print(f'Средняя степень удовлетворенности среди уволившихся: {avg_satisfaction_left:.2f}')\n",
    "# Среднее количество проектов уволившихся\n",
    "avg_projects_left = left_employees['number_project'].mean()\n",
    "print(f'Среднее количество проектов среди уволившихся: {avg_projects_left:.2f}')\n",
    "\n",
    "\n",
    "# Доля сотрудников с повышением за последние 5 лет оставшихся\n",
    "promotion_rate_not_left = (not_left_employees['promotion_last_5years'] == 1).sum() / len(not_left_employees)\n",
    "print(f'\\nДоля сотрудников с повышением среди оставшихся: {promotion_rate_not_left * 100:.2f}%')\n",
    "# Средняя степень удовлетворенности оставшихся\n",
    "avg_satisfaction_not_left = not_left_employees['satisfaction_level'].mean()\n",
    "print(f'Средняя степень удовлетворенности среди оставшихся: {avg_satisfaction_not_left:.2f}')\n",
    "# Среднее количество проектов оставшихся\n",
    "avg_projects_not_left = not_left_employees['number_project'].mean()\n",
    "print(f'Среднее количество проектов среди оставшихся: {avg_projects_not_left:.2f}')"
   ]
  },
  {
   "cell_type": "markdown",
   "id": "3c18b127-c1fa-4c00-80b2-451683218af6",
   "metadata": {},
   "source": [
    "Комментарий:\n",
    "\n",
    "Среди уволившихся сотрудников доля тех, кто получил повышение за последние 5 лет, составляет всего 0,53%.\n",
    "Среди оставшихся сотрудников эта доля много выше — 2,63%. Это может указывать на то, что получение повышения может быть одним из факторов, влияющих на решение сотрудника остаться в компании.\n",
    "\n",
    "Средняя степень удовлетворённости среди уволившихся сотрудников составляет 0,44, что указывает на относительно низкий уровень удовлетворённости работой.\n",
    "Среди оставшихся сотрудников средняя степень удовлетворённости значительно выше — 0,67. Это может говорить о том, что высокий уровень удовлетворённости является одним из факторов, способствующих тому, что сотрудники остаются в компании.\n",
    "\n",
    "Среднее количество проектов, в которых участвовали уволившиеся сотрудники, составляет 3,86.\n",
    "Для оставшихся сотрудников это значение чуть ниже — 3,79. Разница между этими значениями небольшая, что может указывать на то, что количество проектов не является определяющим фактором при принятии решения об увольнении или продолжении работы."
   ]
  },
  {
   "cell_type": "code",
   "execution_count": null,
   "id": "14e635a4-409e-482c-b0b4-3620307dc476",
   "metadata": {},
   "outputs": [],
   "source": []
  }
 ],
 "metadata": {
  "kernelspec": {
   "display_name": "Python 3 (ipykernel)",
   "language": "python",
   "name": "python3"
  },
  "language_info": {
   "codemirror_mode": {
    "name": "ipython",
    "version": 3
   },
   "file_extension": ".py",
   "mimetype": "text/x-python",
   "name": "python",
   "nbconvert_exporter": "python",
   "pygments_lexer": "ipython3",
   "version": "3.9.13"
  }
 },
 "nbformat": 4,
 "nbformat_minor": 5
}
